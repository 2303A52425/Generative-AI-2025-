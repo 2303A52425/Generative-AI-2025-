{
  "nbformat": 4,
  "nbformat_minor": 0,
  "metadata": {
    "colab": {
      "provenance": [],
      "authorship_tag": "ABX9TyPTl9/Qd8keQwpTn59/3S/6",
      "include_colab_link": true
    },
    "kernelspec": {
      "name": "python3",
      "display_name": "Python 3"
    },
    "language_info": {
      "name": "python"
    }
  },
  "cells": [
    {
      "cell_type": "markdown",
      "metadata": {
        "id": "view-in-github",
        "colab_type": "text"
      },
      "source": [
        "<a href=\"https://colab.research.google.com/github/2303A52425/Generative-AI-2025-/blob/main/GenAI_Assignment_2.ipynb\" target=\"_parent\"><img src=\"https://colab.research.google.com/assets/colab-badge.svg\" alt=\"Open In Colab\"/></a>"
      ]
    },
    {
      "cell_type": "markdown",
      "source": [
        "QUESTION-1"
      ],
      "metadata": {
        "id": "casfOKK6AHhS"
      }
    },
    {
      "cell_type": "code",
      "execution_count": 5,
      "metadata": {
        "colab": {
          "base_uri": "https://localhost:8080/"
        },
        "id": "QQ2vx_gN7AQa",
        "outputId": "b146ce1e-6439-40d3-e395-53a7ee544e49"
      },
      "outputs": [
        {
          "output_type": "stream",
          "name": "stdout",
          "text": [
            "Optimal number of Chocolate A: 2\n",
            "Optimal number of Chocolate B: 3\n",
            "Maximum Profit: Rs 27\n",
            "\n",
            "Verification:\n",
            "Milk used: 5 units (must be ≤ 5)\n",
            "Choco used: 12 units (must be ≤ 12)\n"
          ]
        }
      ],
      "source": [
        "def calculate_profit(a, b):\n",
        "    return 6*a + 5*b\n",
        "\n",
        "def is_valid(a, b):\n",
        "    if a + b > 5:\n",
        "        return False\n",
        "    if 3*a + 2*b > 12:\n",
        "        return False\n",
        "    return True\n",
        "\n",
        "max_profit = 0\n",
        "best_a = 0\n",
        "best_b = 0\n",
        "\n",
        "for a in range(6):\n",
        "    for b in range(6):\n",
        "        if is_valid(a, b):\n",
        "            profit = calculate_profit(a, b)\n",
        "            if profit > max_profit:\n",
        "                max_profit = profit\n",
        "                best_a = a\n",
        "                best_b = b\n",
        "\n",
        "print(f\"Optimal number of Chocolate A: {best_a}\")\n",
        "print(f\"Optimal number of Chocolate B: {best_b}\")\n",
        "print(f\"Maximum Profit: Rs {max_profit}\")\n",
        "\n",
        "print(\"\\nVerification:\")\n",
        "print(f\"Milk used: {best_a + best_b} units (must be ≤ 5)\")\n",
        "print(f\"Choco used: {3*best_a + 2*best_b} units (must be ≤ 12)\")\n"
      ]
    },
    {
      "cell_type": "markdown",
      "source": [
        "QUESTION-2"
      ],
      "metadata": {
        "id": "9fXdiZ0LAL0B"
      }
    },
    {
      "cell_type": "code",
      "source": [
        "from scipy.optimize import linprog\n",
        "import numpy as np\n",
        "\n",
        "c = [-50, -120]\n",
        "\n",
        "A = np.array([\n",
        "    [1, 1],\n",
        "    [7000, 2000],\n",
        "    [10, 30]\n",
        "])\n",
        "\n",
        "b = np.array([110, 700000, 1200])\n",
        "\n",
        "x_bounds = [(0, None), (0, None)]\n",
        "\n",
        "result = linprog(c, A_ub=A, b_ub=b, bounds=x_bounds, method='simplex')\n",
        "\n",
        "if result.success:\n",
        "    print(\"\\nOptimal Land Allocation:\")\n",
        "    print(f\"Wheat: {result.x[0]:.2f} hectares\")\n",
        "    print(f\"Barley: {result.x[1]:.2f} hectares\")\n",
        "    print(f\"\\nOptimal Profit: Rs. {-result.fun:.2f}\")\n",
        "else:\n",
        "    print(\"No solution found\")\n"
      ],
      "metadata": {
        "colab": {
          "base_uri": "https://localhost:8080/"
        },
        "id": "nvmB4zR4_VZ7",
        "outputId": "8889c576-d24f-4783-ded8-446f6d5d9cb5"
      },
      "execution_count": 6,
      "outputs": [
        {
          "output_type": "stream",
          "name": "stdout",
          "text": [
            "\n",
            "Optimal Land Allocation:\n",
            "Wheat: 97.89 hectares\n",
            "Barley: 7.37 hectares\n",
            "\n",
            "Optimal Profit: Rs. 5778.95\n"
          ]
        },
        {
          "output_type": "stream",
          "name": "stderr",
          "text": [
            "<ipython-input-6-712ecc56ecc3>:22: DeprecationWarning: `method='simplex'` is deprecated and will be removed in SciPy 1.11.0. Please use one of the HiGHS solvers (e.g. `method='highs'`) in new code.\n",
            "  result = linprog(c, A_ub=A, b_ub=b, bounds=x_bounds, method='simplex')\n"
          ]
        }
      ]
    }
  ]
}