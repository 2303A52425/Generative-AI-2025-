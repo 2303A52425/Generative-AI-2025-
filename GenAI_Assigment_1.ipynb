{
  "nbformat": 4,
  "nbformat_minor": 0,
  "metadata": {
    "colab": {
      "provenance": []
    },
    "kernelspec": {
      "name": "python3",
      "display_name": "Python 3"
    },
    "language_info": {
      "name": "python"
    }
  },
  "cells": [
    {
      "cell_type": "markdown",
      "source": [
        "Question-1"
      ],
      "metadata": {
        "id": "ALgHqnt7A3dy"
      }
    },
    {
      "cell_type": "code",
      "source": [
        "import numpy as np\n",
        "from sklearn.metrics import mean_absolute_error, mean_squared_error, r2_score"
      ],
      "metadata": {
        "id": "o_4XqyQs9B1L"
      },
      "execution_count": 17,
      "outputs": []
    },
    {
      "cell_type": "code",
      "source": [
        "y_actual=np.array([20,30,40,50,60])\n",
        "y_pred=np.array([20.5,30.3,40.2,50.6,60.7])"
      ],
      "metadata": {
        "id": "geZnvJZ09Dtz"
      },
      "execution_count": 18,
      "outputs": []
    },
    {
      "cell_type": "code",
      "source": [
        "def calculate_metrics_scratch(y_true, y_pred):\n",
        "    mae = np.mean(np.abs(y_true - y_pred))\n",
        "    mse = np.mean((y_true - y_pred) ** 2)\n",
        "    rmse = np.sqrt(mse)\n",
        "    return mae, mse, rmse"
      ],
      "metadata": {
        "id": "okia6zym-UfN"
      },
      "execution_count": 19,
      "outputs": []
    },
    {
      "cell_type": "code",
      "source": [
        "mae_scratch, mse_scratch, rmse_scratch = calculate_metrics_scratch(y_actual, y_pred)\n",
        "mae_lib = mean_absolute_error(y_actual, y_pred)\n",
        "mse_lib = mean_squared_error(y_actual, y_pred)\n",
        "rmse_lib = np.sqrt(mean_squared_error(y_actual, y_pred))"
      ],
      "metadata": {
        "id": "VS1XpNcU-gmP"
      },
      "execution_count": 20,
      "outputs": []
    },
    {
      "cell_type": "code",
      "source": [
        "print(\"Custom Implementation:\")\n",
        "print(f\"MAE: {mae_scratch:.4f}\")\n",
        "print(f\"MSE: {mse_scratch:.4f}\")\n",
        "print(f\"RMSE: {rmse_scratch:.4f}\")\n",
        "print(\"\\nLibrary Implementation:\")\n",
        "print(f\"MAE: {mae_lib:.4f}\")\n",
        "print(f\"MSE: {mse_lib:.4f}\")\n",
        "print(f\"RMSE: {rmse_lib:.4f}\")"
      ],
      "metadata": {
        "id": "2LOtv7gp-u40",
        "colab": {
          "base_uri": "https://localhost:8080/"
        },
        "outputId": "0a626b78-3f05-4365-b6f5-000c189ee89f"
      },
      "execution_count": 21,
      "outputs": [
        {
          "output_type": "stream",
          "name": "stdout",
          "text": [
            "Custom Implementation:\n",
            "MAE: 0.4600\n",
            "MSE: 0.2460\n",
            "RMSE: 0.4960\n",
            "\n",
            "Library Implementation:\n",
            "MAE: 0.4600\n",
            "MSE: 0.2460\n",
            "RMSE: 0.4960\n"
          ]
        }
      ]
    },
    {
      "cell_type": "markdown",
      "source": [
        "Question-2"
      ],
      "metadata": {
        "id": "UfvcZg5OA_M6"
      }
    },
    {
      "cell_type": "code",
      "source": [
        "import numpy as np\n",
        "from sklearn.metrics import r2_score, mean_absolute_percentage_error"
      ],
      "metadata": {
        "id": "BHTkdzTfDPja"
      },
      "execution_count": 22,
      "outputs": []
    },
    {
      "cell_type": "code",
      "source": [
        "def calculate_evaluation_metrics(y_true, y_pred):\n",
        "    n = len(y_true)\n",
        "    r2 = r2_score(y_true, y_pred)\n",
        "    p = 1\n",
        "    adj_r2 = 1 - (1 - r2) * (n - 1) / (n - p - 1)\n",
        "    mape = mean_absolute_percentage_error(y_true, y_pred) * 100\n",
        "    y_true_mean = np.mean(y_true)\n",
        "    y_pred_mean = np.mean(y_pred)\n",
        "    numerator = np.sum((y_true - y_true_mean) * (y_pred - y_pred_mean))\n",
        "    denominator = np.sum((y_true - y_true_mean) ** 2)\n",
        "    explained_variance = numerator / denominator\n",
        "\n",
        "    return {\n",
        "        'R-squared': r2,\n",
        "        'Adjusted R-squared': adj_r2,\n",
        "        'MAPE': mape,\n",
        "        'Explained Variance': explained_variance\n",
        "    }"
      ],
      "metadata": {
        "id": "b5zr7dXUDS1H"
      },
      "execution_count": 23,
      "outputs": []
    },
    {
      "cell_type": "code",
      "source": [
        "y_actual = np.array([20, 30, 40, 50, 60])\n",
        "y_pred = np.array([20.5, 30.3, 40.2, 50.6, 60.7])\n",
        "\n",
        "metrics = calculate_evaluation_metrics(y_actual, y_pred)"
      ],
      "metadata": {
        "id": "vEwRcaSdDdTy"
      },
      "execution_count": 24,
      "outputs": []
    },
    {
      "cell_type": "code",
      "source": [
        "print(\"Evaluation Metrics:\")\n",
        "for metric_name, value in metrics.items():\n",
        "    print(f\"{metric_name:20s}: {value:>10.4f}\")\n",
        "\n",
        "print(\"\\nLibrary Implementation Comparison:\")\n",
        "print(f\"{'R-squared (sklearn)':20s}: {r2_score(y_actual, y_pred):>10.4f}\")\n",
        "print(f\"{'MAPE (sklearn)':20s}: {mean_absolute_percentage_error(y_actual, y_pred)*100:>10.4f}\")"
      ],
      "metadata": {
        "colab": {
          "base_uri": "https://localhost:8080/"
        },
        "id": "UEJhaLjvADB1",
        "outputId": "181eb864-d634-41b9-c078-c74fc372788b"
      },
      "execution_count": 26,
      "outputs": [
        {
          "output_type": "stream",
          "name": "stdout",
          "text": [
            "Evaluation Metrics:\n",
            "R-squared           :     0.9988\n",
            "Adjusted R-squared  :     0.9984\n",
            "MAPE                :     1.2733\n",
            "Explained Variance  :     1.0070\n",
            "\n",
            "Library Implementation Comparison:\n",
            "R-squared (sklearn) :     0.9988\n",
            "MAPE (sklearn)      :     1.2733\n"
          ]
        }
      ]
    }
  ]
}